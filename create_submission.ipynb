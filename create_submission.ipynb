{
 "cells": [
  {
   "cell_type": "code",
   "execution_count": 3,
   "id": "12aeb89d",
   "metadata": {},
   "outputs": [
    {
     "name": "stdout",
     "output_type": "stream",
     "text": [
      "Loading model...\n"
     ]
    },
    {
     "name": "stderr",
     "output_type": "stream",
     "text": [
      "Some weights of RobertaForSequenceClassification were not initialized from the model checkpoint at roberta-base and are newly initialized: ['classifier.dense.bias', 'classifier.dense.weight', 'classifier.out_proj.bias', 'classifier.out_proj.weight']\n",
      "You should probably TRAIN this model on a down-stream task to be able to use it for predictions and inference.\n",
      "C:\\Users\\samak\\AppData\\Local\\Temp\\ipykernel_47824\\1504788085.py:43: FutureWarning: You are using `torch.load` with `weights_only=False` (the current default value), which uses the default pickle module implicitly. It is possible to construct malicious pickle data which will execute arbitrary code during unpickling (See https://github.com/pytorch/pytorch/blob/main/SECURITY.md#untrusted-models for more details). In a future release, the default value for `weights_only` will be flipped to `True`. This limits the functions that could be executed during unpickling. Arbitrary objects will no longer be allowed to be loaded via this mode unless they are explicitly allowlisted by the user via `torch.serialization.add_safe_globals`. We recommend you start setting `weights_only=True` for any use case where you don't have full control of the loaded file. Please open an issue on GitHub for any issues related to this experimental feature.\n",
      "  model.load_state_dict(torch.load(MODEL_PATH, map_location=DEVICE))\n"
     ]
    },
    {
     "name": "stdout",
     "output_type": "stream",
     "text": [
      "Loading test data...\n",
      "Generating predictions...\n"
     ]
    },
    {
     "name": "stderr",
     "output_type": "stream",
     "text": [
      "Predicting: 100%|██████████| 9573/9573 [09:09<00:00, 17.41it/s]\n"
     ]
    },
    {
     "name": "stdout",
     "output_type": "stream",
     "text": [
      "Submission saved to data/submission.csv\n",
      "\n",
      "Sample predictions:\n",
      "                 id  toxic  severe_toxic  obscene  threat  insult  \\\n",
      "0  00001cee341fdb12      1             1        1       0       1   \n",
      "1  0000247867823ef7      0             0        0       0       0   \n",
      "2  00013b17ad220c46      0             0        0       0       0   \n",
      "3  00017563c3f7919a      0             0        0       0       0   \n",
      "4  00017695ad8997eb      0             0        0       0       0   \n",
      "\n",
      "   identity_hate  \n",
      "0              1  \n",
      "1              0  \n",
      "2              0  \n",
      "3              0  \n",
      "4              0  \n",
      "\n",
      "Binary prediction counts:\n",
      "toxic: 35976/153164 (23.49% positive)\n",
      "severe_toxic: 6473/153164 (4.23% positive)\n",
      "obscene: 24449/153164 (15.96% positive)\n",
      "threat: 1052/153164 (0.69% positive)\n",
      "insult: 22749/153164 (14.85% positive)\n",
      "identity_hate: 5016/153164 (3.27% positive)\n"
     ]
    }
   ],
   "source": [
    "import pandas as pd\n",
    "import torch\n",
    "import numpy as np\n",
    "from torch.utils.data import DataLoader\n",
    "from transformers import RobertaForSequenceClassification, AutoTokenizer\n",
    "from tqdm import tqdm\n",
    "\n",
    "# Configuration\n",
    "MODEL_NAME = \"roberta-base\"\n",
    "MAX_LEN = 256\n",
    "BATCH_SIZE = 16  # Can increase for inference\n",
    "DEVICE = \"cuda\" if torch.cuda.is_available() else \"cpu\"\n",
    "MODEL_PATH = \"model/toxic_roberta_best.pt\"\n",
    "THRESHOLD = 0.5\n",
    "\n",
    "# Load tokenizer\n",
    "tokenizer = AutoTokenizer.from_pretrained(MODEL_NAME)\n",
    "\n",
    "# Dataset class for inference (no labels)\n",
    "class TestDataset:\n",
    "    def __init__(self, texts):\n",
    "        self.texts = texts\n",
    "\n",
    "    def __len__(self):\n",
    "        return len(self.texts)\n",
    "\n",
    "    def __getitem__(self, idx):\n",
    "        encoding = tokenizer(\n",
    "            self.texts[idx],\n",
    "            truncation=True,\n",
    "            padding='max_length',\n",
    "            max_length=MAX_LEN,\n",
    "            return_tensors='pt'\n",
    "        )\n",
    "        return {\n",
    "            'input_ids': encoding['input_ids'].squeeze(),\n",
    "            'attention_mask': encoding['attention_mask'].squeeze(),\n",
    "        }\n",
    "\n",
    "# Load model\n",
    "print(\"Loading model...\")\n",
    "model = RobertaForSequenceClassification.from_pretrained(MODEL_NAME, num_labels=6)\n",
    "model.load_state_dict(torch.load(MODEL_PATH, map_location=DEVICE))\n",
    "model.to(DEVICE)\n",
    "model.eval()\n",
    "\n",
    "# Load test data\n",
    "print(\"Loading test data...\")\n",
    "test_df = pd.read_csv(\"data/test.csv\")\n",
    "sample_df = pd.read_csv(\"data/sample_submission.csv\")\n",
    "\n",
    "# Prepare test dataset\n",
    "test_texts = test_df[\"comment_text\"].fillna(\"none\").values\n",
    "test_dataset = TestDataset(test_texts)\n",
    "test_loader = DataLoader(test_dataset, batch_size=BATCH_SIZE, shuffle=False)\n",
    "\n",
    "# Generate predictions\n",
    "print(\"Generating predictions...\")\n",
    "all_predictions = []\n",
    "\n",
    "with torch.no_grad():\n",
    "    for batch in tqdm(test_loader, desc=\"Predicting\"):\n",
    "        input_ids = batch['input_ids'].to(DEVICE)\n",
    "        attention_mask = batch['attention_mask'].to(DEVICE)\n",
    "        \n",
    "        outputs = model(input_ids, attention_mask=attention_mask)\n",
    "        probabilities = torch.sigmoid(outputs.logits).cpu().numpy()\n",
    "        \n",
    "        all_predictions.append(probabilities)\n",
    "\n",
    "# Concatenate all predictions\n",
    "predictions = np.concatenate(all_predictions, axis=0)\n",
    "\n",
    "# Convert probabilities to binary predictions\n",
    "binary_predictions = (predictions > THRESHOLD).astype(int)\n",
    "\n",
    "# Create submission dataframe\n",
    "submission_df = pd.DataFrame()\n",
    "submission_df['id'] = test_df['id']\n",
    "\n",
    "# Add binary prediction columns (using same column names as sample submission)\n",
    "label_columns = ['toxic', 'severe_toxic', 'obscene', 'threat', 'insult', 'identity_hate']\n",
    "for i, col in enumerate(label_columns):\n",
    "    submission_df[col] = binary_predictions[:, i]\n",
    "\n",
    "# Save submission\n",
    "submission_df.to_csv('data/submission.csv', index=False)\n",
    "print(\"Submission saved to data/submission.csv\")\n",
    "\n",
    "# Display sample predictions\n",
    "print(\"\\nSample predictions:\")\n",
    "print(submission_df.head())\n",
    "print(f\"\\nBinary prediction counts:\")\n",
    "for col in label_columns:\n",
    "    positive_count = submission_df[col].sum()\n",
    "    print(f\"{col}: {positive_count}/{len(submission_df)} ({positive_count/len(submission_df)*100:.2f}% positive)\")"
   ]
  }
 ],
 "metadata": {
  "kernelspec": {
   "display_name": ".venv",
   "language": "python",
   "name": "python3"
  },
  "language_info": {
   "codemirror_mode": {
    "name": "ipython",
    "version": 3
   },
   "file_extension": ".py",
   "mimetype": "text/x-python",
   "name": "python",
   "nbconvert_exporter": "python",
   "pygments_lexer": "ipython3",
   "version": "3.12.9"
  }
 },
 "nbformat": 4,
 "nbformat_minor": 5
}
